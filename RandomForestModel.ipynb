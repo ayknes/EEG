{
 "cells": [
  {
   "cell_type": "code",
   "execution_count": 1,
   "id": "c73aa1bf",
   "metadata": {},
   "outputs": [],
   "source": [
    "import pandas as pd\n",
    "from sklearn.model_selection import train_test_split\n",
    "from sklearn.ensemble import RandomForestClassifier\n",
    "from sklearn.metrics import accuracy_score\n"
   ]
  },
  {
   "cell_type": "code",
   "execution_count": 2,
   "id": "7b0b9950",
   "metadata": {},
   "outputs": [],
   "source": [
    "# Chemin vers le dossier contenant les fichiers CSV\n",
    "data_folder = \"/chemin/vers/dossier/contenant/les/fichiers/csv\" "
   ]
  },
  {
   "cell_type": "code",
   "execution_count": null,
   "id": "7fcf4c69",
   "metadata": {},
   "outputs": [],
   "source": [
    "# Créer un dictionnaire associant chaque fichier CSV à la main correspondante\n",
    "data_dict = {}\n",
    "for root, dirs, files in os.walk(data_folder):\n",
    "    for file in files:\n",
    "        if file.endswith(\".csv\"):\n",
    "            filename = os.path.join(root, file)\n",
    "            if \"left\" in filename:\n",
    "                data_dict[filename] = \"left\"\n",
    "            elif \"right\" in filename:\n",
    "                data_dict[filename] = \"right\""
   ]
  },
  {
   "cell_type": "code",
   "execution_count": null,
   "id": "d0429b05",
   "metadata": {},
   "outputs": [],
   "source": [
    "# Créer des listes pour stocker les données et les étiquettes de chaque fichier CSV\n",
    "X = []\n",
    "y = []"
   ]
  },
  {
   "cell_type": "code",
   "execution_count": null,
   "id": "eae1f93e",
   "metadata": {},
   "outputs": [],
   "source": [
    "# Boucle sur chaque fichier CSV du dictionnaire\n",
    "for file, hand in data_dict.items():\n",
    "    # Charger les données dans un DataFrame\n",
    "    data = pd.read_csv(file)\n",
    "    # Ajouter les données à la liste X\n",
    "    X.append(data.values)\n",
    "    # Ajouter l'étiquette de la main correspondante à la liste y\n",
    "    y.append(hand)"
   ]
  },
  {
   "cell_type": "code",
   "execution_count": null,
   "id": "461b1b8e",
   "metadata": {},
   "outputs": [],
   "source": [
    "# Diviser les données en ensembles d'entraînement et de test\n",
    "X_train, X_test, y_train, y_test = train_test_split(X, y, test_size=0.2, random_state=42)\n"
   ]
  },
  {
   "cell_type": "code",
   "execution_count": null,
   "id": "050a19aa",
   "metadata": {},
   "outputs": [],
   "source": [
    "# Transformer les listes en tableaux NumPy\n",
    "X_train = np.array(X_train)\n",
    "X_test = np.array(X_test)\n",
    "y_train = np.array(y_train)\n",
    "y_test = np.array(y_test)"
   ]
  },
  {
   "cell_type": "code",
   "execution_count": null,
   "id": "e2b0be40",
   "metadata": {},
   "outputs": [],
   "source": [
    "# Aplatir les tableaux 3D pour pouvoir être utilisés avec le modèle de forêt aléatoire\n",
    "X_train = X_train.reshape(X_train.shape[0], -1)\n",
    "X_test = X_test.reshape(X_test.shape[0], -1)"
   ]
  },
  {
   "cell_type": "code",
   "execution_count": null,
   "id": "f0380bcb",
   "metadata": {},
   "outputs": [],
   "source": [
    "# Entraîner un modèle de forêt aléatoire pour prédire la main correspondante\n",
    "rf_model = RandomForestClassifier(n_estimators=100)\n",
    "rf_model.fit(X_train, y_train)\n",
    "rf_predictions = rf_model.predict(X_test)\n",
    "rf_accuracy = accuracy_score(y_test, rf_predictions)\n",
    "print(\"Accuracy with random forest: \", rf_accuracy)\n"
   ]
  },
  {
   "cell_type": "code",
   "execution_count": null,
   "id": "40ab15ad",
   "metadata": {},
   "outputs": [],
   "source": [
    "# Charger de nouvelles données à partir d'un fichier CSV\n",
    "new_data = pd.read_csv(\"/chemin/vers/nouvelles/donnees.csv\")\n"
   ]
  },
  {
   "cell_type": "code",
   "execution_count": null,
   "id": "41b4a5dc",
   "metadata": {},
   "outputs": [],
   "source": [
    "# Prédire la main correspondante avec le modèle de forêt aléatoire\n",
    "new_data = new_data.values.reshape(1, -1)\n",
    "predicted_hand = rf_model.predict(new_data)\n",
    "print(\"Predicted hand for new data: \", predicted_hand)"
   ]
  }
 ],
 "metadata": {
  "kernelspec": {
   "display_name": "Python 3 (ipykernel)",
   "language": "python",
   "name": "python3"
  },
  "language_info": {
   "codemirror_mode": {
    "name": "ipython",
    "version": 3
   },
   "file_extension": ".py",
   "mimetype": "text/x-python",
   "name": "python",
   "nbconvert_exporter": "python",
   "pygments_lexer": "ipython3",
   "version": "3.9.13"
  }
 },
 "nbformat": 4,
 "nbformat_minor": 5
}
